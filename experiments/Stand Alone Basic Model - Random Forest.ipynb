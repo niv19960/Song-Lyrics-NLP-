{
 "cells": [
  {
   "cell_type": "code",
   "execution_count": 1,
   "id": "9ec1dbed",
   "metadata": {},
   "outputs": [],
   "source": [
    "import pandas as pd\n",
    "from sklearn.ensemble import RandomForestClassifier\n",
    "from sklearn.metrics import roc_auc_score, precision_score, recall_score, f1_score, accuracy_score, confusion_matrix\n",
    "from sklearn.model_selection import train_test_split\n",
    "from matplotlib import pyplot, pyplot as plt\n",
    "import seaborn as sns"
   ]
  },
  {
   "cell_type": "code",
   "execution_count": 2,
   "id": "e72b6180",
   "metadata": {},
   "outputs": [],
   "source": [
    "def createDF(file_name):\n",
    "    \"\"\"\n",
    "    It reads the csv file, renames the columns, creates a binary column for the mood, and creates a column for the\n",
    "    length of the lyrics\n",
    "\n",
    "    :param file_name: the name of the file you want to import\n",
    "    :return: A dataframe with the columns: lyrics, song name, valence, mood, length\n",
    "    \"\"\"\n",
    "    # Import CSV file\n",
    "    df = pd.read_csv(file_name, sep=',', index_col=[0])\n",
    "\n",
    "    return df"
   ]
  },
  {
   "cell_type": "code",
   "execution_count": 3,
   "id": "cddc4c26",
   "metadata": {},
   "outputs": [],
   "source": [
    "from sklearn.pipeline import Pipeline\n",
    "\n",
    "def trainModel(model, x_train, y_train):\n",
    "    \"\"\"\n",
    "    It takes a model, a training set, and a training label, and returns a trained model\n",
    "\n",
    "    :param model: the model to be trained\n",
    "    :param x_raw_train: the training data\n",
    "    :param y_train: the labels of the training data\n",
    "    :return: The classifier is being returned.\n",
    "    \"\"\"\n",
    "    classifier = Pipeline([('clf', model)])\n",
    "    classifier.fit(x_train, y_train)\n",
    "    return classifier"
   ]
  },
  {
   "cell_type": "code",
   "execution_count": 4,
   "id": "4345a79a",
   "metadata": {},
   "outputs": [],
   "source": [
    "def evaluation(model, x_test, y_test):\n",
    "    \"\"\"\n",
    "    It takes the model, the test data, and the test labels as input and prints out the confusion matrix, ROC-AUC score,\n",
    "    accuraשcy score, precision score, recall score, and f1 score.\n",
    "\n",
    "    :param lr2: the model\n",
    "    :param x_raw_test: The test data\n",
    "    :param y_test: The actual values of the target variable\n",
    "    \"\"\"\n",
    "    # predict probabilities on Test and take probability for class 1([:1])\n",
    "    y_pred_prob = model.predict_proba(x_test)[:, 1]\n",
    "    y_predict = model.predict(x_test)\n",
    "\n",
    "    df_metrics = pd.DataFrame([])\n",
    "    metrics = {}\n",
    "    metrics['Roc-Auc'] = roc_auc_score(y_test, y_pred_prob)\n",
    "    metrics['accuracy'] = accuracy_score(y_test, y_predict)\n",
    "    metrics['precision'] = precision_score(y_test, y_predict)\n",
    "    metrics['recall'] = recall_score(y_test, y_predict)\n",
    "    metrics['f1'] = f1_score(y_test, y_predict, average='macro')\n",
    "    df_metrics = pd.concat([df_metrics, pd.DataFrame(metrics, index=['Random forest']).T], axis=1)\n",
    "\n",
    "    df_metrics.to_csv(\"5_Random forest Results After Fine Tuning.csv\")\n",
    "    \n",
    "    return y_predict"
   ]
  },
  {
   "cell_type": "code",
   "execution_count": 5,
   "id": "3cf5d372",
   "metadata": {},
   "outputs": [],
   "source": [
    "def confusionMatrix(y_test, y_pred):\n",
    "\n",
    "    # Create a confusion matrix\n",
    "    cnf_matrix = confusion_matrix(y_test, y_pred)\n",
    "\n",
    "    # Create heatmap from the confusion matrix\n",
    "\n",
    "    class_names = [False, True]  # name  of classes\n",
    "    fig, ax = plt.subplots(figsize=(7, 6))\n",
    "    sns.heatmap(pd.DataFrame(cnf_matrix), annot=True, cmap=\"YlGnBu\", fmt='g')\n",
    "    ax.xaxis.set_label_position(\"top\")\n",
    "    plt.tight_layout()\n",
    "    plt.title('Confusion matrix')\n",
    "    plt.ylabel('Actual label')\n",
    "    plt.xlabel('Predicted label')\n",
    "    tick_marks = [0.5, 1.5]\n",
    "    plt.xticks(tick_marks, class_names)\n",
    "    plt.yticks(tick_marks, class_names)"
   ]
  },
  {
   "cell_type": "code",
   "execution_count": 6,
   "id": "f0d9fb43",
   "metadata": {},
   "outputs": [],
   "source": [
    "file_name = '3_Optimization Data.csv'\n",
    "RF_data = createDF(file_name)"
   ]
  },
  {
   "cell_type": "code",
   "execution_count": 7,
   "id": "9bec098b",
   "metadata": {},
   "outputs": [],
   "source": [
    "x = RF_data.drop(columns='Mood', axis=1)\n",
    "y = RF_data['Mood']"
   ]
  },
  {
   "cell_type": "code",
   "execution_count": 8,
   "id": "050b507a",
   "metadata": {},
   "outputs": [],
   "source": [
    "x_train, x_test, y_train, y_test = train_test_split(x, y, test_size=0.3, random_state=42)"
   ]
  },
  {
   "cell_type": "code",
   "execution_count": 9,
   "id": "662d8f86",
   "metadata": {},
   "outputs": [
    {
     "data": {
      "image/png": "[encoded data removed]",
      "text/plain": [
       "<Figure size 504x432 with 2 Axes>"
      ]
     },
     "metadata": {
      "needs_background": "light"
     },
     "output_type": "display_data"
    }
   ],
   "source": [
    "model = trainModel(RandomForestClassifier(bootstrap=False, max_depth=None, n_estimators=256), x_train, y_train)\n",
    "y_pred = evaluation(model, x_test, y_test)\n",
    "confusionMatrix(y_test, y_pred)"
   ]
  }
 ],
 "metadata": {
  "kernelspec": {
   "display_name": "Python 3 (ipykernel)",
   "language": "python",
   "name": "python3"
  },
  "language_info": {
   "codemirror_mode": {
    "name": "ipython",
    "version": 3
   },
   "file_extension": ".py",
   "mimetype": "text/x-python",
   "name": "python",
   "nbconvert_exporter": "python",
   "pygments_lexer": "ipython3",
   "version": "3.9.7"
  }
 },
 "nbformat": 4,
 "nbformat_minor": 5
}
